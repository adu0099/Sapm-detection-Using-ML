{
 "cells": [
  {
   "cell_type": "code",
   "execution_count": 1,
   "id": "113f683d",
   "metadata": {},
   "outputs": [],
   "source": [
    "import pickle\n",
    "import re\n",
    "import nltk\n",
    "from nltk.corpus import stopwords\n",
    "from nltk.stem.porter import PorterStemmer"
   ]
  },
  {
   "cell_type": "code",
   "execution_count": 2,
   "id": "a3df5528",
   "metadata": {},
   "outputs": [],
   "source": [
    "# Load trained model and vectorizer\n",
    "model = pickle.load(open(\"pickle.pkl\", \"rb\"))\n",
    "cv = pickle.load(open(\"tranform.pkl\", \"rb\"))\n"
   ]
  },
  {
   "cell_type": "code",
   "execution_count": 3,
   "id": "800488ac",
   "metadata": {},
   "outputs": [],
   "source": [
    "\n",
    "# Preprocessing function (same as you used before)\n",
    "ps = PorterStemmer()\n",
    "\n",
    "def preprocess_text(text):\n",
    "    review = re.sub('[^a-zA-Z]', ' ', text)  # remove non-letters\n",
    "    review = review.lower()\n",
    "    review = review.split()\n",
    "    review = [ps.stem(word) for word in review if word not in stopwords.words('english')]\n",
    "    return ' '.join(review)\n",
    "\n"
   ]
  },
  {
   "cell_type": "code",
   "execution_count": 4,
   "id": "8f8dd6f9",
   "metadata": {},
   "outputs": [],
   "source": [
    "\n",
    "# Example input sentence\n",
    "input_sentence = \"Congratulations! You've won a free ticket. Call now to claim.\"\n"
   ]
  },
  {
   "cell_type": "code",
   "execution_count": 5,
   "id": "5d4dc33e",
   "metadata": {},
   "outputs": [],
   "source": [
    "# Preprocess and transform\n",
    "processed = preprocess_text(input_sentence)\n",
    "vectorized = cv.transform([processed]).toarray()"
   ]
  },
  {
   "cell_type": "code",
   "execution_count": 6,
   "id": "5458ca8a",
   "metadata": {},
   "outputs": [],
   "source": [
    "# Predict\n",
    "prediction = model.predict(vectorized)"
   ]
  },
  {
   "cell_type": "code",
   "execution_count": 7,
   "id": "6c859984",
   "metadata": {},
   "outputs": [
    {
     "name": "stdout",
     "output_type": "stream",
     "text": [
      "Spam\n"
     ]
    }
   ],
   "source": [
    "# Output\n",
    "if prediction[0] == 1:\n",
    "    print(\"Spam\")\n",
    "else:\n",
    "    print(\"Ham\")\n"
   ]
  }
 ],
 "metadata": {
  "kernelspec": {
   "display_name": "Python 3 (ipykernel)",
   "language": "python",
   "name": "python3"
  },
  "language_info": {
   "codemirror_mode": {
    "name": "ipython",
    "version": 3
   },
   "file_extension": ".py",
   "mimetype": "text/x-python",
   "name": "python",
   "nbconvert_exporter": "python",
   "pygments_lexer": "ipython3",
   "version": "3.11.2"
  }
 },
 "nbformat": 4,
 "nbformat_minor": 5
}
